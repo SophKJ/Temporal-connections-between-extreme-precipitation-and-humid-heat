{
 "cells": [
  {
   "cell_type": "markdown",
   "id": "7c2ba51c-57b3-4443-9c0c-a67c0a22c336",
   "metadata": {},
   "source": [
    "## Code for Autocorrelations"
   ]
  },
  {
   "cell_type": "code",
   "execution_count": null,
   "id": "14bca7b3-1956-4bc3-bb23-abcd953f9ee8",
   "metadata": {},
   "outputs": [],
   "source": [
    "import xarray as xr\n",
    "import os\n",
    "import numpy as np\n",
    "import netCDF4 as nc\n",
    "import pandas as pd\n",
    "from scipy import stats \n",
    "from scipy.interpolate import griddata, RectBivariateSpline\n",
    "import matplotlib.pyplot as plt \n",
    "import statistics\n",
    "#import seaborn as sns\n",
    "from tqdm.auto import tqdm \n",
    "import operator as op\n",
    "import cartopy as cart\n",
    "import matplotlib.ticker as mticker\n",
    "#from mpl_toolkits.axes_grid1 import make_axes_locatable\n",
    "import pyproj\n",
    "#from mpl_toolkits.basemap import Basemap, interp\n",
    "import matplotlib.colors as colors\n",
    "from matplotlib.axes import Axes\n",
    "from cartopy.mpl.geoaxes import GeoAxes\n",
    "import cartopy.crs as ccrs\n",
    "from cartopy.mpl.gridliner import LONGITUDE_FORMATTER, LATITUDE_FORMATTER\n",
    "from scipy.stats import kstest, mannwhitneyu, ks_2samp\n",
    "GeoAxes._pcolormesh_patched = Axes.pcolormesh\n",
    "import matplotlib.dates as mdates\n",
    "import cartopy\n",
    "import cartopy.feature as cfeature\n",
    "from datetime import timedelta\n",
    "import datetime"
   ]
  },
  {
   "cell_type": "code",
   "execution_count": 2,
   "id": "f5fe7774-50f0-44a5-8801-64ad43e7fc4f",
   "metadata": {},
   "outputs": [],
   "source": [
    "size = (15, 15)\n",
    "longdis = 15\n",
    "latdis = 15\n",
    "resolution = '10m'\n",
    "\n",
    "# Map generation Code\n",
    "def generateMap(central_longitude=0):\n",
    "    \n",
    "    fig = plt.figure(figsize=size)\n",
    "    ax = fig.add_subplot(111)\n",
    "    ax = plt.axes(projection=ccrs.PlateCarree(central_longitude=central_longitude))\n",
    "    ax.coastlines()\n",
    "    gl = ax.gridlines(ccrs.PlateCarree(), draw_labels=True, linewidth=0.5, color='gray', alpha=0.5, linestyle='--')\n",
    "    gl.xlabels_top = False\n",
    "    gl.xlocator = mticker.FixedLocator((range(-180, 180, longdis)))\n",
    "    gl.ylocator = mticker.FixedLocator((range(-90, 90, latdis)))\n",
    "    gl.xformatter = LONGITUDE_FORMATTER\n",
    "    gl.yformatter = LATITUDE_FORMATTER\n",
    "    \n",
    "    ax.add_feature(cart.feature.BORDERS)"
   ]
  },
  {
   "cell_type": "code",
   "execution_count": 3,
   "id": "6e12c568-4a4c-4de8-8f93-a0a2a774d895",
   "metadata": {},
   "outputs": [
    {
     "name": "stdout",
     "output_type": "stream",
     "text": [
      "D:\\RainHeatData\\ERA5\\precip_dailytotal\n"
     ]
    }
   ],
   "source": [
    "%cd ERA5/precip_dailytotal\n",
    "#first re-grid on 360x180 grid with 1x1 gridcells\n",
    "yearly_precip_regridded = xr.open_dataset('precip_daily_total_1979-2019_regrid.nc', engine='netcdf4')\n",
    "#yearly_precip_regridded"
   ]
  },
  {
   "cell_type": "code",
   "execution_count": 4,
   "id": "81254c35-fc09-46e6-9f89-9c0ea51cf771",
   "metadata": {},
   "outputs": [],
   "source": [
    "#convert ERA5 precipitation to mm\n",
    "yearly_precip_regridded = yearly_precip_regridded.tp*1000"
   ]
  },
  {
   "cell_type": "code",
   "execution_count": 5,
   "id": "cb9548b9-e148-4e7e-b2ef-881d453f4491",
   "metadata": {},
   "outputs": [
    {
     "name": "stdout",
     "output_type": "stream",
     "text": [
      "D:\\RainHeatData\\ERA5\n",
      "D:\\RainHeatData\\ERA5\\humid_heat\\regridded_daymeans\n"
     ]
    }
   ],
   "source": [
    "%cd ..\n",
    "%cd humid_heat\\regridded_daymeans"
   ]
  },
  {
   "cell_type": "code",
   "execution_count": 6,
   "id": "8a77ff89-ff88-4366-86e5-2a18941d5e37",
   "metadata": {},
   "outputs": [],
   "source": [
    "all_tw_regridded = xr.open_dataset('TW_daily_max_1979-2020_daymean_regridded.nc', engine='netcdf4')\n",
    "#all_tw_regridded"
   ]
  },
  {
   "cell_type": "code",
   "execution_count": 7,
   "id": "d6e6ca84-1a85-4480-aa70-b6a71fbd7190",
   "metadata": {},
   "outputs": [],
   "source": [
    "#ERA5 Northern Hemisphere\n",
    "lats = np.argwhere((yearly_precip_regridded.lat.values >= 0) & (yearly_precip_regridded.lat.values <= 90))\n",
    "lons = np.argwhere((yearly_precip_regridded.lon.values >= 0) & (yearly_precip_regridded.lon.values <= 360))\n",
    "precip_data_N = yearly_precip_regridded.sel(lon = slice(0,360), lat=slice(0,90)) #yearly_precip_regridded\n",
    "TW_data_N = all_tw_regridded.sel(lon = slice(0,360), lat=slice(0,90))\n",
    "\n",
    "#Southern Hemisphere\n",
    "#lats = np.argwhere((yearly_precip_regridded.lat.values >= -90) & (yearly_precip_regridded.lat.values <= 0))\n",
    "#lons = np.argwhere((yearly_precip_regridded.lon.values >= 0) & (yearly_precip_regridded.lon.values <= 360))\n",
    "#precip_data_S = yearly_precip_regridded.sel(lon = slice(0,360), lat=slice(-90,0)) #yearly_precip_regridded\n",
    "#TW_data_S = all_tw_regridded.sel(lon = slice(0,360), lat=slice(-90,0))\n"
   ]
  },
  {
   "cell_type": "code",
   "execution_count": 8,
   "id": "bff36e3e-720f-404a-8926-8df7c6aa339d",
   "metadata": {},
   "outputs": [],
   "source": [
    "june_months = np.argwhere((yearly_precip_regridded.time.values.astype('datetime64[M]').astype(int) % 12 + 1) == 6)\n",
    "july_months = np.argwhere((yearly_precip_regridded.time.values.astype('datetime64[M]').astype(int) % 12 + 1) == 7)\n",
    "august_months = np.argwhere((yearly_precip_regridded.time.values.astype('datetime64[M]').astype(int) % 12 + 1) == 8)\n",
    "JJA_idx = np.concatenate([june_months, july_months, august_months])\n",
    "JJA_idx\n",
    "\n",
    "december_months = np.argwhere((yearly_precip_regridded.time.values.astype('datetime64[M]').astype(int) % 12 + 1) == 12)\n",
    "january_months = np.argwhere((yearly_precip_regridded.time.values.astype('datetime64[M]').astype(int) % 12 + 1) == 1)\n",
    "february_months = np.argwhere((yearly_precip_regridded.time.values.astype('datetime64[M]').astype(int) % 12 + 1) == 2)\n",
    "DJF_idx = np.concatenate([december_months, january_months, february_months])"
   ]
  },
  {
   "cell_type": "code",
   "execution_count": 9,
   "id": "41a8659f-01d1-4a1e-8d07-923a3d40bb27",
   "metadata": {},
   "outputs": [],
   "source": [
    "precip_data_JJA = precip_data_N.where(precip_data_N.time.dt.month.isin([6,7,8]),drop=True) #tp for ERA5, precip for NOAA\n",
    "TW_data_JJA = TW_data_N.where(TW_data_N.time.dt.month.isin([6,7,8]),drop=True).TW"
   ]
  },
  {
   "cell_type": "markdown",
   "id": "0942f598-ee67-4aa0-83b9-9db616eb2539",
   "metadata": {},
   "source": [
    "## 3 regions of focus\n",
    "* Region 1: Southern Arizona:  NEW COORD: 32-37N, 243-248E\n",
    "* Region 2: East James Bay to US-Canada Border: updated: 49-55N, 282-289 N\n",
    "* Region 3: Calcutta & Dhaka: 22-24N, 87-90E\n",
    "* Region 4 (supplemental): Morocco:  20-30N, 0-10E"
   ]
  },
  {
   "cell_type": "code",
   "execution_count": 52,
   "id": "ec64c2a1-0aab-4425-a812-53823868ef01",
   "metadata": {},
   "outputs": [],
   "source": [
    "### select area to average over ###\n",
    "# REGIONALLY AVERAGED SELECTIONS\n",
    "\n",
    "#lats = np.argwhere((yearly_precip_regridded.lat.values >= 32.5) & (yearly_precip_regridded.lat.values <= 34.5))\n",
    "#lons = np.argwhere((yearly_precip_regridded.lon.values >= 289.5) & (yearly_precip_regridded.lon.values <= 293.5))\n",
    "\n",
    "lon_1=282.5\n",
    "lon_2=289.5\n",
    "lat_1=49.5\n",
    "lat_2=55.5\n",
    "\n",
    "precip_data = precip_data_JJA.sel(lon =slice(lon_1-.1,lon_2+.1), lat=slice(lat_1-.1,lat_2+.1))\n",
    "precip_data_year = precip_data_N.sel(lon =slice(lon_1-.1,lon_2+.1), lat=slice(lat_1-.1,lat_2+.1)).mean(dim=['lat','lon'])\n",
    "TW_data = TW_data_N.sel(lon =slice(lon_1-.1,lon_2+.1), lat=slice(lat_1-.1,lat_2+.1)).TW.mean(dim=['lat','lon'])"
   ]
  },
  {
   "cell_type": "code",
   "execution_count": 53,
   "id": "4f5afe98-01e9-41d1-b8b6-1147fb4b4baa",
   "metadata": {},
   "outputs": [],
   "source": [
    "### Daily Precip Anomalies ###\n",
    "#daily average\n",
    "precip_mean = precip_data.groupby('time.dayofyear').mean(dim='time')\n",
    "#30 day rolling mean\n",
    "precip_rolling = precip_data.rolling(time = 30, center = True).mean('time')\n",
    "#anomaly\n",
    "precip_data_anom = precip_data.groupby('time.dayofyear') - precip_rolling.groupby('time.dayofyear').mean(dim='time')\n",
    "\n",
    "### Daily Max TW Anomalies ###\n",
    "#daily average\n",
    "TW_mean = TW_data.groupby('time.dayofyear').mean(dim='time')\n",
    "#rolling mean\n",
    "TW_rolling = TW_data.rolling(time = 30, center = True).mean('time')\n",
    "\n",
    "#anomalies -- with 5 day smoothed climatology and without\n",
    "TW_data = TW_data.groupby('time.dayofyear') - TW_rolling.groupby('time.dayofyear').mean(dim='time')"
   ]
  },
  {
   "cell_type": "code",
   "execution_count": 54,
   "id": "d336973e-ad42-454f-bc31-9c84bb2f085e",
   "metadata": {},
   "outputs": [],
   "source": [
    "#90th percentile cutoffs for each variable\n",
    "# for anomalies use variable_data\n",
    "# for abs magnitude use variable_mean\n",
    "percentile_cutoff_JJA = np.nanpercentile(np.squeeze(precip_data), q=90, axis=0)\n",
    "TW_percentile_cutoff_JJA = np.nanpercentile(np.squeeze(TW_data), q=90, axis=0)"
   ]
  },
  {
   "cell_type": "code",
   "execution_count": 55,
   "id": "d7217fb4-6333-480b-9ef8-2fa44b5e036c",
   "metadata": {},
   "outputs": [],
   "source": [
    "### percentile of wet days >1 mm for area averaged ###\n",
    "\n",
    "raw_percentile_cutoff_JJA = np.zeros((precip_data_JJA.shape[1], precip_data_JJA.shape[2]))\n",
    "precip_days=[]\n",
    "rain_threshold = 1\n",
    "for i in range(precip_data.shape[1]):\n",
    "    \n",
    "    for j in range(precip_data.shape[2]):\n",
    "        \n",
    "        precip_data_for_coordinate = precip_data[:,i,j]\n",
    "        idx_norain = np.squeeze(np.argwhere(np.array(precip_data_for_coordinate) <= rain_threshold))\n",
    "        precip_data_JJA_pc = precip_data_for_coordinate[~idx_norain] #this is still an xarray, all days for given coord that have precip>1mm rain\n",
    "        raw_percentile_cutoff_JJA[i][j] = np.nanpercentile(precip_data_JJA_pc, q=90)\n",
    "        idx_90 = np.squeeze(np.argwhere(np.array(precip_data_for_coordinate) > raw_percentile_cutoff_JJA[i][j])) # put into index array\n",
    "        precip_90_pc = precip_data_for_coordinate[idx_90] # select precip anomalies for this index\n",
    "        precip_90_idx = precip_90_pc.time.to_dataframe() # put into dataframe, list of dates"
   ]
  },
  {
   "cell_type": "code",
   "execution_count": 56,
   "id": "2bef96e6-97a0-4804-9412-e9ce8304ae55",
   "metadata": {},
   "outputs": [],
   "source": [
    "for index, row in precip_90_idx.iterrows():\n",
    "            \n",
    "    # Buffer before\n",
    "    buffer = 5\n",
    "    date_datetime = index\n",
    "    #date_datetime = datetime.strptime(date,'%Y-%m-%d')\n",
    "            #date_datetime = datetime.strptime(date,'%Y-%m-%d') #turn into datetime \n",
    "    for addition in range(-1*buffer, 0): #5 days before, put actual day\n",
    "        backward = date_datetime + timedelta(days = addition)\n",
    "        precip_days.extend([backward])\n",
    "                \n",
    "                #First day aka day of\n",
    "    precip_days.extend([date_datetime])\n",
    "\n",
    "    for addition in range(1, buffer+1): # 5 days after event\n",
    "        forward = date_datetime + timedelta(days = addition)\n",
    "        precip_days.extend([forward])\n",
    "        \n",
    "precip_days_list = list(precip_days)"
   ]
  },
  {
   "cell_type": "code",
   "execution_count": 57,
   "id": "a2555dab-36aa-477d-8d1d-a44784ff6a56",
   "metadata": {},
   "outputs": [],
   "source": [
    "### Select +5/-5 days of Precip data ### \n",
    "\n",
    "#precip_days_tp = precip_data.where(precip_data.time.isin(precip_days_list), drop=True)\n",
    "#precip_days_tp = precip_data.sel(time=precip_days_list)\n",
    "precip_days_tp = precip_data_year.sel(time=precip_days_list)\n",
    "\n",
    "TW_days_tp = TW_data.sel(time=precip_days_list)"
   ]
  },
  {
   "cell_type": "code",
   "execution_count": 58,
   "id": "e965165b-1bca-44d1-87ed-5fe514c5429f",
   "metadata": {},
   "outputs": [
    {
     "data": {
      "text/html": [
       "<div><svg style=\"position: absolute; width: 0; height: 0; overflow: hidden\">\n",
       "<defs>\n",
       "<symbol id=\"icon-database\" viewBox=\"0 0 32 32\">\n",
       "<path d=\"M16 0c-8.837 0-16 2.239-16 5v4c0 2.761 7.163 5 16 5s16-2.239 16-5v-4c0-2.761-7.163-5-16-5z\"></path>\n",
       "<path d=\"M16 17c-8.837 0-16-2.239-16-5v6c0 2.761 7.163 5 16 5s16-2.239 16-5v-6c0 2.761-7.163 5-16 5z\"></path>\n",
       "<path d=\"M16 26c-8.837 0-16-2.239-16-5v6c0 2.761 7.163 5 16 5s16-2.239 16-5v-6c0 2.761-7.163 5-16 5z\"></path>\n",
       "</symbol>\n",
       "<symbol id=\"icon-file-text2\" viewBox=\"0 0 32 32\">\n",
       "<path d=\"M28.681 7.159c-0.694-0.947-1.662-2.053-2.724-3.116s-2.169-2.030-3.116-2.724c-1.612-1.182-2.393-1.319-2.841-1.319h-15.5c-1.378 0-2.5 1.121-2.5 2.5v27c0 1.378 1.122 2.5 2.5 2.5h23c1.378 0 2.5-1.122 2.5-2.5v-19.5c0-0.448-0.137-1.23-1.319-2.841zM24.543 5.457c0.959 0.959 1.712 1.825 2.268 2.543h-4.811v-4.811c0.718 0.556 1.584 1.309 2.543 2.268zM28 29.5c0 0.271-0.229 0.5-0.5 0.5h-23c-0.271 0-0.5-0.229-0.5-0.5v-27c0-0.271 0.229-0.5 0.5-0.5 0 0 15.499-0 15.5 0v7c0 0.552 0.448 1 1 1h7v19.5z\"></path>\n",
       "<path d=\"M23 26h-14c-0.552 0-1-0.448-1-1s0.448-1 1-1h14c0.552 0 1 0.448 1 1s-0.448 1-1 1z\"></path>\n",
       "<path d=\"M23 22h-14c-0.552 0-1-0.448-1-1s0.448-1 1-1h14c0.552 0 1 0.448 1 1s-0.448 1-1 1z\"></path>\n",
       "<path d=\"M23 18h-14c-0.552 0-1-0.448-1-1s0.448-1 1-1h14c0.552 0 1 0.448 1 1s-0.448 1-1 1z\"></path>\n",
       "</symbol>\n",
       "</defs>\n",
       "</svg>\n",
       "<style>/* CSS stylesheet for displaying xarray objects in jupyterlab.\n",
       " *\n",
       " */\n",
       "\n",
       ":root {\n",
       "  --xr-font-color0: var(--jp-content-font-color0, rgba(0, 0, 0, 1));\n",
       "  --xr-font-color2: var(--jp-content-font-color2, rgba(0, 0, 0, 0.54));\n",
       "  --xr-font-color3: var(--jp-content-font-color3, rgba(0, 0, 0, 0.38));\n",
       "  --xr-border-color: var(--jp-border-color2, #e0e0e0);\n",
       "  --xr-disabled-color: var(--jp-layout-color3, #bdbdbd);\n",
       "  --xr-background-color: var(--jp-layout-color0, white);\n",
       "  --xr-background-color-row-even: var(--jp-layout-color1, white);\n",
       "  --xr-background-color-row-odd: var(--jp-layout-color2, #eeeeee);\n",
       "}\n",
       "\n",
       "html[theme=dark],\n",
       "body.vscode-dark {\n",
       "  --xr-font-color0: rgba(255, 255, 255, 1);\n",
       "  --xr-font-color2: rgba(255, 255, 255, 0.54);\n",
       "  --xr-font-color3: rgba(255, 255, 255, 0.38);\n",
       "  --xr-border-color: #1F1F1F;\n",
       "  --xr-disabled-color: #515151;\n",
       "  --xr-background-color: #111111;\n",
       "  --xr-background-color-row-even: #111111;\n",
       "  --xr-background-color-row-odd: #313131;\n",
       "}\n",
       "\n",
       ".xr-wrap {\n",
       "  display: block !important;\n",
       "  min-width: 300px;\n",
       "  max-width: 700px;\n",
       "}\n",
       "\n",
       ".xr-text-repr-fallback {\n",
       "  /* fallback to plain text repr when CSS is not injected (untrusted notebook) */\n",
       "  display: none;\n",
       "}\n",
       "\n",
       ".xr-header {\n",
       "  padding-top: 6px;\n",
       "  padding-bottom: 6px;\n",
       "  margin-bottom: 4px;\n",
       "  border-bottom: solid 1px var(--xr-border-color);\n",
       "}\n",
       "\n",
       ".xr-header > div,\n",
       ".xr-header > ul {\n",
       "  display: inline;\n",
       "  margin-top: 0;\n",
       "  margin-bottom: 0;\n",
       "}\n",
       "\n",
       ".xr-obj-type,\n",
       ".xr-array-name {\n",
       "  margin-left: 2px;\n",
       "  margin-right: 10px;\n",
       "}\n",
       "\n",
       ".xr-obj-type {\n",
       "  color: var(--xr-font-color2);\n",
       "}\n",
       "\n",
       ".xr-sections {\n",
       "  padding-left: 0 !important;\n",
       "  display: grid;\n",
       "  grid-template-columns: 150px auto auto 1fr 20px 20px;\n",
       "}\n",
       "\n",
       ".xr-section-item {\n",
       "  display: contents;\n",
       "}\n",
       "\n",
       ".xr-section-item input {\n",
       "  display: none;\n",
       "}\n",
       "\n",
       ".xr-section-item input + label {\n",
       "  color: var(--xr-disabled-color);\n",
       "}\n",
       "\n",
       ".xr-section-item input:enabled + label {\n",
       "  cursor: pointer;\n",
       "  color: var(--xr-font-color2);\n",
       "}\n",
       "\n",
       ".xr-section-item input:enabled + label:hover {\n",
       "  color: var(--xr-font-color0);\n",
       "}\n",
       "\n",
       ".xr-section-summary {\n",
       "  grid-column: 1;\n",
       "  color: var(--xr-font-color2);\n",
       "  font-weight: 500;\n",
       "}\n",
       "\n",
       ".xr-section-summary > span {\n",
       "  display: inline-block;\n",
       "  padding-left: 0.5em;\n",
       "}\n",
       "\n",
       ".xr-section-summary-in:disabled + label {\n",
       "  color: var(--xr-font-color2);\n",
       "}\n",
       "\n",
       ".xr-section-summary-in + label:before {\n",
       "  display: inline-block;\n",
       "  content: '►';\n",
       "  font-size: 11px;\n",
       "  width: 15px;\n",
       "  text-align: center;\n",
       "}\n",
       "\n",
       ".xr-section-summary-in:disabled + label:before {\n",
       "  color: var(--xr-disabled-color);\n",
       "}\n",
       "\n",
       ".xr-section-summary-in:checked + label:before {\n",
       "  content: '▼';\n",
       "}\n",
       "\n",
       ".xr-section-summary-in:checked + label > span {\n",
       "  display: none;\n",
       "}\n",
       "\n",
       ".xr-section-summary,\n",
       ".xr-section-inline-details {\n",
       "  padding-top: 4px;\n",
       "  padding-bottom: 4px;\n",
       "}\n",
       "\n",
       ".xr-section-inline-details {\n",
       "  grid-column: 2 / -1;\n",
       "}\n",
       "\n",
       ".xr-section-details {\n",
       "  display: none;\n",
       "  grid-column: 1 / -1;\n",
       "  margin-bottom: 5px;\n",
       "}\n",
       "\n",
       ".xr-section-summary-in:checked ~ .xr-section-details {\n",
       "  display: contents;\n",
       "}\n",
       "\n",
       ".xr-array-wrap {\n",
       "  grid-column: 1 / -1;\n",
       "  display: grid;\n",
       "  grid-template-columns: 20px auto;\n",
       "}\n",
       "\n",
       ".xr-array-wrap > label {\n",
       "  grid-column: 1;\n",
       "  vertical-align: top;\n",
       "}\n",
       "\n",
       ".xr-preview {\n",
       "  color: var(--xr-font-color3);\n",
       "}\n",
       "\n",
       ".xr-array-preview,\n",
       ".xr-array-data {\n",
       "  padding: 0 5px !important;\n",
       "  grid-column: 2;\n",
       "}\n",
       "\n",
       ".xr-array-data,\n",
       ".xr-array-in:checked ~ .xr-array-preview {\n",
       "  display: none;\n",
       "}\n",
       "\n",
       ".xr-array-in:checked ~ .xr-array-data,\n",
       ".xr-array-preview {\n",
       "  display: inline-block;\n",
       "}\n",
       "\n",
       ".xr-dim-list {\n",
       "  display: inline-block !important;\n",
       "  list-style: none;\n",
       "  padding: 0 !important;\n",
       "  margin: 0;\n",
       "}\n",
       "\n",
       ".xr-dim-list li {\n",
       "  display: inline-block;\n",
       "  padding: 0;\n",
       "  margin: 0;\n",
       "}\n",
       "\n",
       ".xr-dim-list:before {\n",
       "  content: '(';\n",
       "}\n",
       "\n",
       ".xr-dim-list:after {\n",
       "  content: ')';\n",
       "}\n",
       "\n",
       ".xr-dim-list li:not(:last-child):after {\n",
       "  content: ',';\n",
       "  padding-right: 5px;\n",
       "}\n",
       "\n",
       ".xr-has-index {\n",
       "  font-weight: bold;\n",
       "}\n",
       "\n",
       ".xr-var-list,\n",
       ".xr-var-item {\n",
       "  display: contents;\n",
       "}\n",
       "\n",
       ".xr-var-item > div,\n",
       ".xr-var-item label,\n",
       ".xr-var-item > .xr-var-name span {\n",
       "  background-color: var(--xr-background-color-row-even);\n",
       "  margin-bottom: 0;\n",
       "}\n",
       "\n",
       ".xr-var-item > .xr-var-name:hover span {\n",
       "  padding-right: 5px;\n",
       "}\n",
       "\n",
       ".xr-var-list > li:nth-child(odd) > div,\n",
       ".xr-var-list > li:nth-child(odd) > label,\n",
       ".xr-var-list > li:nth-child(odd) > .xr-var-name span {\n",
       "  background-color: var(--xr-background-color-row-odd);\n",
       "}\n",
       "\n",
       ".xr-var-name {\n",
       "  grid-column: 1;\n",
       "}\n",
       "\n",
       ".xr-var-dims {\n",
       "  grid-column: 2;\n",
       "}\n",
       "\n",
       ".xr-var-dtype {\n",
       "  grid-column: 3;\n",
       "  text-align: right;\n",
       "  color: var(--xr-font-color2);\n",
       "}\n",
       "\n",
       ".xr-var-preview {\n",
       "  grid-column: 4;\n",
       "}\n",
       "\n",
       ".xr-var-name,\n",
       ".xr-var-dims,\n",
       ".xr-var-dtype,\n",
       ".xr-preview,\n",
       ".xr-attrs dt {\n",
       "  white-space: nowrap;\n",
       "  overflow: hidden;\n",
       "  text-overflow: ellipsis;\n",
       "  padding-right: 10px;\n",
       "}\n",
       "\n",
       ".xr-var-name:hover,\n",
       ".xr-var-dims:hover,\n",
       ".xr-var-dtype:hover,\n",
       ".xr-attrs dt:hover {\n",
       "  overflow: visible;\n",
       "  width: auto;\n",
       "  z-index: 1;\n",
       "}\n",
       "\n",
       ".xr-var-attrs,\n",
       ".xr-var-data {\n",
       "  display: none;\n",
       "  background-color: var(--xr-background-color) !important;\n",
       "  padding-bottom: 5px !important;\n",
       "}\n",
       "\n",
       ".xr-var-attrs-in:checked ~ .xr-var-attrs,\n",
       ".xr-var-data-in:checked ~ .xr-var-data {\n",
       "  display: block;\n",
       "}\n",
       "\n",
       ".xr-var-data > table {\n",
       "  float: right;\n",
       "}\n",
       "\n",
       ".xr-var-name span,\n",
       ".xr-var-data,\n",
       ".xr-attrs {\n",
       "  padding-left: 25px !important;\n",
       "}\n",
       "\n",
       ".xr-attrs,\n",
       ".xr-var-attrs,\n",
       ".xr-var-data {\n",
       "  grid-column: 1 / -1;\n",
       "}\n",
       "\n",
       "dl.xr-attrs {\n",
       "  padding: 0;\n",
       "  margin: 0;\n",
       "  display: grid;\n",
       "  grid-template-columns: 125px auto;\n",
       "}\n",
       "\n",
       ".xr-attrs dt,\n",
       ".xr-attrs dd {\n",
       "  padding: 0;\n",
       "  margin: 0;\n",
       "  float: left;\n",
       "  padding-right: 10px;\n",
       "  width: auto;\n",
       "}\n",
       "\n",
       ".xr-attrs dt {\n",
       "  font-weight: normal;\n",
       "  grid-column: 1;\n",
       "}\n",
       "\n",
       ".xr-attrs dt:hover span {\n",
       "  display: inline-block;\n",
       "  background: var(--xr-background-color);\n",
       "  padding-right: 10px;\n",
       "}\n",
       "\n",
       ".xr-attrs dd {\n",
       "  grid-column: 2;\n",
       "  white-space: pre-wrap;\n",
       "  word-break: break-all;\n",
       "}\n",
       "\n",
       ".xr-icon-database,\n",
       ".xr-icon-file-text2 {\n",
       "  display: inline-block;\n",
       "  vertical-align: middle;\n",
       "  width: 1em;\n",
       "  height: 1.5em !important;\n",
       "  stroke-width: 0;\n",
       "  stroke: currentColor;\n",
       "  fill: currentColor;\n",
       "}\n",
       "</style><pre class='xr-text-repr-fallback'>&lt;xarray.DataArray &#x27;TW&#x27; (time: 4279)&gt;\n",
       "array([-2.3814945 , -2.302002  ,  0.61981773, ..., -1.2278328 ,\n",
       "       -5.083932  , -3.256093  ], dtype=float32)\n",
       "Coordinates:\n",
       "  * time       (time) datetime64[ns] 1979-06-17 1979-06-18 ... 2019-09-04\n",
       "    dayofyear  (time) int64 168 169 170 171 172 173 ... 242 243 244 245 246 247</pre><div class='xr-wrap' style='display:none'><div class='xr-header'><div class='xr-obj-type'>xarray.DataArray</div><div class='xr-array-name'>'TW'</div><ul class='xr-dim-list'><li><span class='xr-has-index'>time</span>: 4279</li></ul></div><ul class='xr-sections'><li class='xr-section-item'><div class='xr-array-wrap'><input id='section-4973a8b2-228c-482e-95a3-6c294ab7b866' class='xr-array-in' type='checkbox' checked><label for='section-4973a8b2-228c-482e-95a3-6c294ab7b866' title='Show/hide data repr'><svg class='icon xr-icon-database'><use xlink:href='#icon-database'></use></svg></label><div class='xr-array-preview xr-preview'><span>-2.381 -2.302 0.6198 2.241 4.177 ... -1.309 -1.228 -5.084 -3.256</span></div><div class='xr-array-data'><pre>array([-2.3814945 , -2.302002  ,  0.61981773, ..., -1.2278328 ,\n",
       "       -5.083932  , -3.256093  ], dtype=float32)</pre></div></div></li><li class='xr-section-item'><input id='section-ffbdc13a-80bc-4baa-8ddc-1967624d7651' class='xr-section-summary-in' type='checkbox'  checked><label for='section-ffbdc13a-80bc-4baa-8ddc-1967624d7651' class='xr-section-summary' >Coordinates: <span>(2)</span></label><div class='xr-section-inline-details'></div><div class='xr-section-details'><ul class='xr-var-list'><li class='xr-var-item'><div class='xr-var-name'><span class='xr-has-index'>time</span></div><div class='xr-var-dims'>(time)</div><div class='xr-var-dtype'>datetime64[ns]</div><div class='xr-var-preview xr-preview'>1979-06-17 ... 2019-09-04</div><input id='attrs-fd2d3f0a-298b-41bf-9069-bdbd82793023' class='xr-var-attrs-in' type='checkbox' ><label for='attrs-fd2d3f0a-298b-41bf-9069-bdbd82793023' title='Show/Hide attributes'><svg class='icon xr-icon-file-text2'><use xlink:href='#icon-file-text2'></use></svg></label><input id='data-f41039e2-7e81-4cfd-87eb-30f54d60f96a' class='xr-var-data-in' type='checkbox'><label for='data-f41039e2-7e81-4cfd-87eb-30f54d60f96a' title='Show/Hide data repr'><svg class='icon xr-icon-database'><use xlink:href='#icon-database'></use></svg></label><div class='xr-var-attrs'><dl class='xr-attrs'><dt><span>standard_name :</span></dt><dd>time</dd><dt><span>long_name :</span></dt><dd>time</dd><dt><span>bounds :</span></dt><dd>time_bnds</dd><dt><span>axis :</span></dt><dd>T</dd></dl></div><div class='xr-var-data'><pre>array([&#x27;1979-06-17T00:00:00.000000000&#x27;, &#x27;1979-06-18T00:00:00.000000000&#x27;,\n",
       "       &#x27;1979-06-19T00:00:00.000000000&#x27;, ..., &#x27;2019-09-02T00:00:00.000000000&#x27;,\n",
       "       &#x27;2019-09-03T00:00:00.000000000&#x27;, &#x27;2019-09-04T00:00:00.000000000&#x27;],\n",
       "      dtype=&#x27;datetime64[ns]&#x27;)</pre></div></li><li class='xr-var-item'><div class='xr-var-name'><span>dayofyear</span></div><div class='xr-var-dims'>(time)</div><div class='xr-var-dtype'>int64</div><div class='xr-var-preview xr-preview'>168 169 170 171 ... 244 245 246 247</div><input id='attrs-d8e9b7b6-ef36-41df-b5a5-c2776f488b90' class='xr-var-attrs-in' type='checkbox' disabled><label for='attrs-d8e9b7b6-ef36-41df-b5a5-c2776f488b90' title='Show/Hide attributes'><svg class='icon xr-icon-file-text2'><use xlink:href='#icon-file-text2'></use></svg></label><input id='data-ddf8b092-1e75-4590-8daa-2dc8a53fb1c3' class='xr-var-data-in' type='checkbox'><label for='data-ddf8b092-1e75-4590-8daa-2dc8a53fb1c3' title='Show/Hide data repr'><svg class='icon xr-icon-database'><use xlink:href='#icon-database'></use></svg></label><div class='xr-var-attrs'><dl class='xr-attrs'></dl></div><div class='xr-var-data'><pre>array([168, 169, 170, ..., 245, 246, 247], dtype=int64)</pre></div></li></ul></div></li><li class='xr-section-item'><input id='section-bebd2f29-4617-4e96-90ff-3d29fb26ad82' class='xr-section-summary-in' type='checkbox' disabled ><label for='section-bebd2f29-4617-4e96-90ff-3d29fb26ad82' class='xr-section-summary'  title='Expand/collapse section'>Attributes: <span>(0)</span></label><div class='xr-section-inline-details'></div><div class='xr-section-details'><dl class='xr-attrs'></dl></div></li></ul></div></div>"
      ],
      "text/plain": [
       "<xarray.DataArray 'TW' (time: 4279)>\n",
       "array([-2.3814945 , -2.302002  ,  0.61981773, ..., -1.2278328 ,\n",
       "       -5.083932  , -3.256093  ], dtype=float32)\n",
       "Coordinates:\n",
       "  * time       (time) datetime64[ns] 1979-06-17 1979-06-18 ... 2019-09-04\n",
       "    dayofyear  (time) int64 168 169 170 171 172 173 ... 242 243 244 245 246 247"
      ]
     },
     "execution_count": 58,
     "metadata": {},
     "output_type": "execute_result"
    }
   ],
   "source": [
    "TW_days_tp"
   ]
  },
  {
   "cell_type": "code",
   "execution_count": 59,
   "id": "c9d11d90-d4dc-4297-976b-28a7b6661066",
   "metadata": {},
   "outputs": [
    {
     "data": {
      "text/plain": [
       "Text(0.5, 1.0, 'EJB')"
      ]
     },
     "execution_count": 59,
     "metadata": {},
     "output_type": "execute_result"
    },
    {
     "data": {
      "image/png": "[encoded data removed]",
      "text/plain": [
       "<Figure size 864x360 with 1 Axes>"
      ]
     },
     "metadata": {
      "needs_background": "light"
     },
     "output_type": "display_data"
    }
   ],
   "source": [
    "fig= plt.figure(figsize=(12,5))\n",
    "plt.scatter(x=precip_days_tp, y=TW_days_tp, cmap='bwr')\n",
    "plt.xlabel('Extreme Precipitation Anomalies', fontsize =12)\n",
    "plt.ylabel('Extreme Wet Bulb Temperatures on Extreme Precipitation Days')\n",
    "plt.title('EJB', fontsize =20)  "
   ]
  },
  {
   "cell_type": "code",
   "execution_count": 60,
   "id": "e3247bfb-76e7-43ff-8874-93e6783061a2",
   "metadata": {},
   "outputs": [],
   "source": [
    "import statsmodels.api as sm\n",
    "from statsmodels.graphics import tsaplots\n",
    "import matplotlib.pyplot as plt"
   ]
  },
  {
   "cell_type": "code",
   "execution_count": 61,
   "id": "adc3e49d-bfcb-4687-b13c-6822f0629e24",
   "metadata": {},
   "outputs": [
    {
     "data": {
      "text/plain": [
       "Text(0, 0.5, 'Correlation coefficient')"
      ]
     },
     "execution_count": 61,
     "metadata": {},
     "output_type": "execute_result"
    },
    {
     "data": {
      "text/plain": [
       "<Figure size 864x360 with 0 Axes>"
      ]
     },
     "metadata": {},
     "output_type": "display_data"
    },
    {
     "data": {
      "image/png": "[encoded data removed]",
      "text/plain": [
       "<Figure size 432x288 with 1 Axes>"
      ]
     },
     "metadata": {
      "needs_background": "light"
     },
     "output_type": "display_data"
    }
   ],
   "source": [
    "fig= plt.figure(figsize=(12,5))\n",
    "tsaplots.plot_acf(TW_days_tp, alpha=.05)\n",
    "                  #,lags=15)\n",
    "plt.title(\"TW Anomaly Autocorrelation: EJB\", fontsize =18)\n",
    "plt.xlabel(\"Lag (days)\", fontsize =12)\n",
    "plt.ylabel(\"Correlation coefficient\", fontsize =12)\n",
    "\n",
    "#sm.tsa.acf(alb_TW_1998, nlags=15)"
   ]
  },
  {
   "cell_type": "code",
   "execution_count": 62,
   "id": "b901aac7-5f18-4b22-aa1a-30927fb8827a",
   "metadata": {},
   "outputs": [
    {
     "data": {
      "text/plain": [
       "Text(0, 0.5, 'Correlation coefficient')"
      ]
     },
     "execution_count": 62,
     "metadata": {},
     "output_type": "execute_result"
    },
    {
     "data": {
      "text/plain": [
       "<Figure size 864x360 with 0 Axes>"
      ]
     },
     "metadata": {},
     "output_type": "display_data"
    },
    {
     "data": {
      "image/png": "[encoded data removed]",
      "text/plain": [
       "<Figure size 432x288 with 1 Axes>"
      ]
     },
     "metadata": {
      "needs_background": "light"
     },
     "output_type": "display_data"
    }
   ],
   "source": [
    "fig= plt.figure(figsize=(12,5))\n",
    "tsaplots.plot_acf(precip_days_tp, alpha=.05)\n",
    "                  #,lags=15)\n",
    "plt.title(\"Precipitation Anomaly Autocorrelation: EJB\", fontsize =18)\n",
    "plt.xlabel(\"Lag (days)\", fontsize =12)\n",
    "plt.ylabel(\"Correlation coefficient\", fontsize =12)\n",
    "\n",
    "#sm.tsa.acf(alb_TW_1998, nlags=15)"
   ]
  },
  {
   "cell_type": "code",
   "execution_count": null,
   "id": "7a891dfe-f962-4e37-bec4-65f74c3882f5",
   "metadata": {},
   "outputs": [],
   "source": []
  },
  {
   "cell_type": "code",
   "execution_count": null,
   "id": "99ed2c71-6451-44f4-9790-cf9ed9de3b42",
   "metadata": {},
   "outputs": [],
   "source": []
  }
 ],
 "metadata": {
  "kernelspec": {
   "display_name": "Python 3 (ipykernel)",
   "language": "python",
   "name": "python3"
  },
  "language_info": {
   "codemirror_mode": {
    "name": "ipython",
    "version": 3
   },
   "file_extension": ".py",
   "mimetype": "text/x-python",
   "name": "python",
   "nbconvert_exporter": "python",
   "pygments_lexer": "ipython3",
   "version": "3.9.9"
  }
 },
 "nbformat": 4,
 "nbformat_minor": 5
}
